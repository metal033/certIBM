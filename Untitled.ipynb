{
  "metadata": {
    "kernelspec": {
      "name": "python",
      "display_name": "Python (Pyodide)",
      "language": "python"
    },
    "language_info": {
      "codemirror_mode": {
        "name": "python",
        "version": 3
      },
      "file_extension": ".py",
      "mimetype": "text/x-python",
      "name": "python",
      "nbconvert_exporter": "python",
      "pygments_lexer": "ipython3",
      "version": "3.8"
    }
  },
  "nbformat_minor": 4,
  "nbformat": 4,
  "cells": [
    {
      "cell_type": "markdown",
      "source": "# My Jupyterlite Notebook\n\n",
      "metadata": {}
    },
    {
      "cell_type": "markdown",
      "source": "## Introduction\nThis notebook is created for the final project of the Coursera Data Science Tools course.\n",
      "metadata": {}
    },
    {
      "cell_type": "markdown",
      "source": "## Data Science Languages\n- Python\n- R\n- SQL\n- Julia\n- Scala\n",
      "metadata": {}
    },
    {
      "cell_type": "markdown",
      "source": "## Data Science Libraries\n- Pandas\n- NumPy\n- Matplotlib\n- Scikit-learn\n- TensorFlow\n- Keras\n",
      "metadata": {}
    },
    {
      "cell_type": "markdown",
      "source": "## Data Science Tools\n| Tool | Description |\n|------|-------------|\n| Jupyter Notebooks | Interactive computing environment |\n| RStudio | Integrated development environment for R |\n| Apache Spark | Cluster-computing framework |\n| TensorFlow | Open-source library for machine learning |\n| RapidMiner | Data science platform for analytics |\n",
      "metadata": {}
    },
    {
      "cell_type": "markdown",
      "source": "## Arithmetic Expression Examples\nBelow are examples of simple arithmetic operations.\n",
      "metadata": {}
    },
    {
      "cell_type": "markdown",
      "source": "# Multiplication and addition\n(3 * 4) + 5\n",
      "metadata": {}
    },
    {
      "cell_type": "markdown",
      "source": "# Convert minutes to hours\nminutes = 150\nhours = minutes / 60\nhours\n",
      "metadata": {}
    },
    {
      "cell_type": "markdown",
      "source": "## Objectives\n- Understand data science languages\n- Explore data science libraries\n- Learn data science tools\n- Perform basic arithmetic operations\n",
      "metadata": {}
    },
    {
      "cell_type": "markdown",
      "source": "## Author\nPradyumna Karyamapudi\n",
      "metadata": {}
    },
    {
      "cell_type": "code",
      "source": "",
      "metadata": {
        "trusted": true
      },
      "outputs": [],
      "execution_count": null
    }
  ]
}